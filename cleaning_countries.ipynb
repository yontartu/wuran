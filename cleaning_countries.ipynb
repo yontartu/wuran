{
 "cells": [
  {
   "cell_type": "markdown",
   "metadata": {},
   "source": [
    "# Creating a Country-Nationality Crosswalk"
   ]
  },
  {
   "cell_type": "markdown",
   "metadata": {},
   "source": [
    "I needed a modified country-nationality crosswalk for my project, so I adapted a list put together by `Dinu`, which can be found [here](https://github.com/Dinu/country-nationality-list/blob/master/countries.csv).\n",
    "\n",
    "I made some initial changes to the raw `countries.csv` before using it to build my crosswalk:\n",
    "* Added \"Ivory Coast\"\n",
    "* Added \"Burma\"\n",
    "* Added \"Great Britain\"\n",
    "* Added \"North Korea\"\n",
    "* Added \"South Korea\"\n",
    "* Added \"Laos\" and \"Lao\"\n",
    "* Added \"Russia\"\n",
    "* Added \"Republic of Congo\" and \"Democratic Republic of Congo\"\n",
    "* Added duplicates for all islands with commas in them (i.e., Bonaire)\n",
    "* Added \"Tajik\"\n",
    "* Added \"Turkmenistani\"\n",
    "* Added \"U.S.\"\n",
    "* Added \"DPRK\"\n",
    "* Added \"ROK\"\n",
    "* Removed all parentheses parts and comma parts from country names\n",
    "* Modified \"United States of America\" to \"United States\"\n",
    "* Modified \"Vatican City State\" to \"Vatican City\"\n",
    "* Modified \"Taiwan\" entry to solely \"Taiwanese\" (previously contained \"Chinese\")\n",
    "* Modified \"Macau\" entry to solely \"Macanese\" (previously contained \"Chinese\")\n",
    "* Removed entry for \"United States Minor Outlying Islands,\" so \"American\" will only return \"United States\"\n",
    "* Removed entry for \"China\" (because I want to match on all *other* countries, excluding China)"
   ]
  },
  {
   "cell_type": "markdown",
   "metadata": {},
   "source": [
    "#### Exploding rows that have multiple entries under `nationality`\n",
    "\n",
    "Entries are separated by either a comma or 'or'."
   ]
  },
  {
   "cell_type": "code",
   "execution_count": null,
   "metadata": {},
   "outputs": [],
   "source": [
    "import pandas as pd\n",
    "\n",
    "countries = pd.read_csv('C:data/countries.csv')\n",
    "countries.head()"
   ]
  },
  {
   "cell_type": "code",
   "execution_count": null,
   "metadata": {},
   "outputs": [],
   "source": [
    "c = countries.copy()\n",
    "print(c.shape) # (265, 5)\n",
    "c[c.nationality.str.contains(' or ')]#.shape"
   ]
  },
  {
   "cell_type": "markdown",
   "metadata": {},
   "source": [
    "8 records with commas, 35 records with 'or', one with both a comma and 'or'."
   ]
  },
  {
   "cell_type": "code",
   "execution_count": null,
   "metadata": {},
   "outputs": [],
   "source": [
    "nc = c[c.nationality.str.contains(',')]\n",
    "nc.head()"
   ]
  },
  {
   "cell_type": "code",
   "execution_count": null,
   "metadata": {},
   "outputs": [],
   "source": [
    "d = pd.DataFrame(nc.nationality.str.split(',').tolist(), index=nc.en_short_name).stack()\n",
    "d = d.reset_index()[[0, 'en_short_name']]\n",
    "d.columns = ['nationality','en_short_name']\n",
    "d = pd.DataFrame(d.nationality.str.split(' or ').tolist(), index=d.en_short_name).stack().reset_index()[[0, 'en_short_name']]\n",
    "d.columns = ['nationality','en_short_name']\n",
    "d.head()"
   ]
  },
  {
   "cell_type": "code",
   "execution_count": null,
   "metadata": {},
   "outputs": [],
   "source": [
    "nc2 = c[c.nationality.str.contains(' or ')]\n",
    "nc2"
   ]
  },
  {
   "cell_type": "code",
   "execution_count": null,
   "metadata": {},
   "outputs": [],
   "source": [
    "e = pd.DataFrame(nc2.nationality.str.split(' or ').tolist(), index=nc2.en_short_name).stack()\n",
    "e = e.reset_index()[[0, 'en_short_name']]\n",
    "e.columns = ['nationality','en_short_name']\n",
    "e = e[:14]\n",
    "e"
   ]
  },
  {
   "cell_type": "markdown",
   "metadata": {},
   "source": [
    "#### Merging the two tables with \"exploded\" records back into the main country table"
   ]
  },
  {
   "cell_type": "code",
   "execution_count": null,
   "metadata": {},
   "outputs": [],
   "source": [
    "c = countries.copy()\n",
    "d # comma\n",
    "e # or\n",
    "c = pd.merge(c, d, how='left', on='en_short_name')\n",
    "c.nationality_y = c.nationality_y.fillna(c.nationality_x)\n",
    "\n",
    "c = pd.merge(c, e, how='left', on='en_short_name')\n",
    "c.nationality = c.nationality.fillna(c.nationality_y)\n",
    "c = c.drop(columns=['nationality_x','nationality_y'])\n",
    "c = c.drop_duplicates()\n",
    "#c = c.reset_index()\n",
    "c.en_short_name = c.en_short_name.str.lower()\n",
    "c.nationality = c.nationality.str.lower()\n",
    "c.nationality = c.nationality.str.strip()\n",
    "c = c.rename(columns={'en_short_name':'country'})\n",
    "c.to_csv('C:data/countries_clean.csv', index=False)\n",
    "c.head()"
   ]
  }
 ],
 "metadata": {
  "kernelspec": {
   "display_name": "Python 3",
   "language": "python",
   "name": "python3"
  },
  "language_info": {
   "codemirror_mode": {
    "name": "ipython",
    "version": 3
   },
   "file_extension": ".py",
   "mimetype": "text/x-python",
   "name": "python",
   "nbconvert_exporter": "python",
   "pygments_lexer": "ipython3",
   "version": "3.7.1"
  }
 },
 "nbformat": 4,
 "nbformat_minor": 2
}
